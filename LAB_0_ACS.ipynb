{
 "cells": [
  {
   "cell_type": "markdown",
   "metadata": {},
   "source": [
    "<img src=\"http://oci02.img.iteso.mx/identidad_de_instancia_2018/ITESO/Logos%20ITESO/Logo-ITESO-Principal.jpg\">"
   ]
  },
  {
   "cell_type": "markdown",
   "metadata": {},
   "source": [
    "<center> <font color= #004A94> <font size = 6> Lic. Ingeniería Financiera </font> <br> <br> <font color= #047CFB> <font size = 4>I.F. Alejandra Cortés Soto - if708833@iteso.mx </font>"
   ]
  },
  {
   "cell_type": "markdown",
   "metadata": {},
   "source": [
    "<center><font color= #004A94> <font size = 6> Microestructura y Sistemas de Trading </font> <br> <br>"
   ]
  },
  {
   "cell_type": "markdown",
   "metadata": {},
   "source": [
    "<center><font color=#42c29b><font size=5> Laboratorio 0: Repaso de Python </font> <br> <br>"
   ]
  },
  {
   "cell_type": "markdown",
   "metadata": {},
   "source": [
    "<center> <font color= #047CFB> <font size = 4> Primavera 2020 </font>  |  <font color= #047CFB> <font size = 4> Repositorio: <a href='https://github.com/'>https://github.com/alecortees22/LAB_0_ACS</a></font>"
   ]
  },
  {
   "cell_type": "markdown",
   "metadata": {},
   "source": [
    "# Resumen"
   ]
  },
  {
   "cell_type": "markdown",
   "metadata": {},
   "source": [
    "Este laboratorio se basó en el uso de funciones específicas del lenguaje de programación python, con la finalidad de aprender a investigar en fuentes externas y de ayuda, así como recordar los aprendizajes obtenidos en cursos anteriores respecto a dicho lenguaje y saber interpretar los datos obtenidos en tu análisis y obtener resultados de apoyo en la toma de decisiones.\n",
    "Utilizamos la herramienta de las gráficas de vela para el estudio de los datos históricos."
   ]
  },
  {
   "cell_type": "markdown",
   "metadata": {},
   "source": [
    "# Codigo"
   ]
  },
  {
   "cell_type": "code",
   "execution_count": 3,
   "metadata": {},
   "outputs": [],
   "source": [
    "# Paso 1: importar todas las paqueterías necesarias para que tu código funcione correctamente\n",
    "import funciones as fn #Utilizamos como apoyo las funciones proporcionadas por el profesor, las importamos de ese archivo\n",
    "import visualizaciones as vs\n",
    "import pandas as pd\n",
    "import numpy as np\n",
    "import plotly.graph_objects as go #Rama de la paquetería plotly que te permite graficar datos \n",
    "import plotly.express as px\n"
   ]
  },
  {
   "cell_type": "code",
   "execution_count": 4,
   "metadata": {},
   "outputs": [],
   "source": [
    "# Paso 2: descargar precios utilizando la herramienta OANDA\n",
    "# Este código nos permite descargar los precios según los parámetros que nosotros indiquemos con la ayuda de la herramienta OANDA\n",
    "OA_Ak = 'db61d16ed80a943c9b65769aea7b75e8-dec8e1238889457a886b69e85640efec' # token personal generado en OANDA\n",
    "OA_In = \"EUR_USD\"  # Utilizamos como instrumento de estudio la pardidad de EUR-USD\n",
    "OA_Gn = \"D\"  # Granularidad de velas\n",
    "# Nosotros determinamos los parámetros específicos para la descarga de históricos\n",
    "fini = pd.to_datetime(\"2019-01-06 00:00:00\").tz_localize('GMT')  # Fecha inicial\n",
    "ffin = pd.to_datetime(\"2019-12-06 00:00:00\").tz_localize('GMT')  # Fecha final\n",
    "\n",
    "df_pe = fn.f_precios_masivos(p0_fini=fini, p1_ffin=ffin, p2_gran=OA_Gn,\n",
    "                             p3_inst=OA_In, p4_oatk=OA_Ak, p5_ginc=4900)"
   ]
  },
  {
   "cell_type": "code",
   "execution_count": 5,
   "metadata": {},
   "outputs": [],
   "source": [
    "# Paso 3: graficar los datos históricos descargados en OANDA utilizando la herramienta plotly\n",
    "vs_grafica1 = vs.g_velas(p0_de=df_pe.iloc[0:120, :]) #Utilizamos la gráfica de velas como herramienta visual de los históricos\n",
    "vs_grafica1.show()"
   ]
  },
  {
   "cell_type": "code",
   "execution_count": 6,
   "metadata": {},
   "outputs": [],
   "source": [
    "# Paso 4: iniciamos el conteno de velas\n",
    "# Primero utilizamos la herramienta de hora para determinar la hora en la que fueron descargados los históricos\n",
    "df_pe['Hora'] = list(df_pe['TimeStamp'][i].hour for i in range(0, len(df_pe['TimeStamp'])))  #Creamos una nueva columna de hora\n",
    "# Ahora utilizamos la herramienta de día de la semana,la cual nos va a permitir sacar conclusiones al final del ejercicio\n",
    "# -- 0A.2: Dia de la semana.\n",
    "df_pe['Dia'] = list(df_pe['TimeStamp'][i].weekday() for i in range(0, len(df_pe['TimeStamp'])))\n",
    "# Calculamos la diferencia entres los precios de inicio y de cierre para determinar la amplitud de las velas\n",
    "# -- CO: Amplitud de velas (close - open).\n",
    "closes = pd.DataFrame(float(i) for i in df_pe['Close'])\n",
    "opens = pd.DataFrame(float(i) for i in df_pe['Open'])\n",
    "df_pe['CO'] = (closes - opens) #Hacemos una columna para colocar esa diferencia y estudiar los cambios del precio entre inicio y fin del dia"
   ]
  },
  {
   "cell_type": "code",
   "execution_count": 7,
   "metadata": {},
   "outputs": [],
   "source": [
    "# Inicio de resultados desarrollados individualmente\n",
    "# Utilizamos la columna de TimeStamp para rescatar el mes donde se obtuvieron los datos para futuro análisis de los mismos\n",
    "# -- 01: Mes de la vela.\n",
    "df_pe['Mes'] = pd.DataFrame(i.month for i in df_pe['TimeStamp']) #Colocamos los datos en la nueva columna mes\n",
    "# Al momento de querer calcular la sesión de la vela tuvimos que darle valores a la hora en la que sucedió el movimiento \n",
    "# para así poder determinar la sesión específica a la que pertenece el movimiento\n",
    "# -- 02: Sesion de la vela.\n",
    "# Utilizamos el apoyo de la función tuple\n",
    "condiciones = [(lambda i: i == 22 or i == 23 or i == 0 or i == 1 or i == 2 or i == 3 or i == 4 or i == 5 or i == 6 or\n",
    "                          i == 7, 'ASIA'),\n",
    "               (lambda i: i == 8, 'ASIA_EUROPA'),\n",
    "               (lambda i: i == 9 or i == 10 or i == 11 or i == 12, 'EUROPA'),\n",
    "               (lambda i: i == 13 or i == 14 or i == 15 or i == 16, 'EUROPA_AMERICA'),\n",
    "               (lambda i: i == 17 or i == 18 or i == 19 or i == 20 or i == 21, 'AMERICA')]\n",
    "\n",
    "\n",
    "# Ahora creamos una función que nos permita utilizar la función de tupla con las condiciones establecidas y los datos de la sección hora\n",
    "def apply_condiciones(i):\n",
    "    for condicion, reemplazo in condiciones:\n",
    "        if condicion(i):\n",
    "            return reemplazo\n",
    "    return i\n",
    "\n",
    "\n",
    "# Por último creamos la columna de sesiones y asignamos los datos obtenidos en base a la función creada\n",
    "df_pe['Sesion'] = list(map(apply_condiciones, df_pe['Hora']))\n"
   ]
  },
  {
   "cell_type": "code",
   "execution_count": 8,
   "metadata": {},
   "outputs": [],
   "source": [
    "# Aqui utilizamos la amplitud de vela CO ya calculada y la ponemos en porcentaje en puntos para después poder compararlo con el día de la semana \n",
    "# -- 03: Amplitud OC esperada de vela para cualquier dia de la semana (Dist de Freq).\n",
    "df_pe['OC'] = (closes - opens) * 10000 #lo multiplicamos por 10000 para ponerlo en PIP\n",
    "# Hacemos el mismo proceso pero ahora con la diferencia del precio más alto y bajo presentado en la sesión\n",
    "# -- 04: Amplitud HL esperada de vela para cualquier dia de la semana (Dist de Freq).\n",
    "high = pd.DataFrame(float(i) for i in df_pe['High'])\n",
    "low = pd.DataFrame(float(i) for i in df_pe['Low'])\n",
    "df_pe['HL'] = (high - low) * 10000 # También lo ponemos en PIP \n",
    "# Ahora determinamos el sentido que tiene cada vela para así poder predecir tendencias \n",
    "# -- 05: Sentido de la vela (Alcista o Bajista)\n",
    "sentido = (lambda opens, closes: 'ALCISTA' if closes >= opens else 'BAJISTA') #Si el cierre es mayor al precio inicial nos vamos a tendencia alcista, de lo contrario bajita\n",
    "df_pe['Sentido'] = pd.DataFrame(sentido(df_pe['Open'][i], df_pe['Close'][i]) for i in range(len(df_pe['Open']))) #Metemos los datos en una columna"
   ]
  },
  {
   "cell_type": "code",
   "execution_count": 10,
   "metadata": {},
   "outputs": [],
   "source": [
    "#Utilizamos la herramienta de ventanas móviles para estudiar los cambios máximos esperados entre los precios del activo en una sesión\n",
    "# a base de los datos históricos obtenidos y escenciales para la ciencia de datos \n",
    "# -- 07: Ventanas móviles de volatilidad\n",
    "# En este caso utilizamos la función rolling que nos permite elegir una ventana móvil con cierto número de muestras para posteriormente\n",
    "# aplicar alguna medida estadística, en este caso utilizamos la función max para obtener el máximo valor de la ventana móvil indicada\n",
    "df_pe['volatilidad_5'] = (df_pe['HL'].rolling(5).max()) #Ventana de 5 \n",
    "df_pe['volatilidad_25'] = (df_pe['HL'].rolling(25).max()) #Ventana de 25\n",
    "df_pe['volatilidad_50'] = (df_pe['HL'].rolling(50).max()) #Ventana de 50\n",
    "\n",
    "# Por último, decidimos graficar el promedio de las volatilidades obtenidas en la ventana móvil de 5 respecto a cada día de la semana\n",
    "\n",
    "# -- 08: Gráfica con Plotly\n",
    "c = df_pe.groupby(['Dia'])['volatilidad_5'].mean() #primero agrupamos los datos de dicha ventana con los días de la semana y le sacamos promedio\n",
    "#Decidimos utilizar una herramienta de plotly llamada scatter que te permite graficar los puntos entre dos variables\n",
    "fig = px.scatter(x=[0, 1, 2, 3, 4, 6], y=c, labels={'x': 'Dia de la semana', 'y': 'Promedio volatilidad (5)'},\n",
    "                 title='Volatilidad en los días de la semana')\n",
    "fig.show()\n",
    "#Obtenemos la gráfica y notamos que el día más volátil es el día 3, mitad de semana y que inicio de semana presenta una volatilidad\n",
    "# baja respecto a los demás días "
   ]
  },
  {
   "cell_type": "code",
   "execution_count": null,
   "metadata": {},
   "outputs": [],
   "source": []
  }
 ],
 "metadata": {
  "kernelspec": {
   "display_name": "Python 3",
   "language": "python",
   "name": "python3"
  },
  "language_info": {
   "codemirror_mode": {
    "name": "ipython",
    "version": 3
   },
   "file_extension": ".py",
   "mimetype": "text/x-python",
   "name": "python",
   "nbconvert_exporter": "python",
   "pygments_lexer": "ipython3",
   "version": "3.7.0"
  }
 },
 "nbformat": 4,
 "nbformat_minor": 2
}
